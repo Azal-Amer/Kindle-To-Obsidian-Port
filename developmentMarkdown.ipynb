{
 "cells": [
  {
   "cell_type": "code",
   "execution_count": 1642,
   "metadata": {},
   "outputs": [],
   "source": [
    "# open the file'\n",
    "import datetime\n",
    "import re\n",
    "from itertools import groupby\n",
    "import shutil\n",
    "import os\n",
    "\n",
    "    "
   ]
  },
  {
   "cell_type": "code",
   "execution_count": 1643,
   "metadata": {},
   "outputs": [],
   "source": [
    "class Quote:\n",
    "    def __init__(self, title, author, content, location,date,page = 'na',note = False):\n",
    "        self.title = title\n",
    "        self.author = author\n",
    "        self.content = content\n",
    "        self.location = location\n",
    "        self.date = date\n",
    "        self.page = page\n",
    "        self.note = note\n",
    "    def __str__(self):\n",
    "        return f\"{self.title} by {self.author} \\n {self.content} \\n {self.location} \\n {self.date} \\n {self.page} \\n {self.note} \\n\"\n",
    "    def markdownBody(self):\n",
    "        # develop later once we have come up with a markdown format\n",
    "        # what we want to do is open the markdown file, and replace the content in curly brackets, with the content of the quote\n",
    "        template = ''\n",
    "        with open('Book Template.md','r') as file:\n",
    "            template = file.read()\n",
    "            \n",
    "            file.close()\n",
    "        template = template.split('<!-- End of Properties -->')[1]\n",
    "        template = template.replace('{Quote}',self.content)\n",
    "        markdownNote = ''\n",
    "        if(self.note !=False and self.note != True):\n",
    "            markdownNote = f\"\\n- {self.note}\"\n",
    "        template = template.replace('{Note}',markdownNote)\n",
    "        if self.page == 'na':\n",
    "            template = template.replace('{locationData}',self.location)\n",
    "        else:\n",
    "            template = template.replace('{locationData}',f\"Page {self.page}\")\n",
    "        template = template.replace('{time}',self.date)\n",
    "        \n",
    "        formattedDate = datetime.datetime.strptime(self.date, '%A, %B %d, %Y %I:%M:%S %p').strftime('%Y-%m-%d')\n",
    "        template = template.replace('dateFormat',formattedDate)\n",
    "        return template\n",
    "    def markdownTitle(self):\n",
    "        template = ''\n",
    "        with open('Book Template.md','r') as file:\n",
    "            template = file.read()\n",
    "            \n",
    "            file.close()\n",
    "        template = template.split('<!-- End of Properties -->')[0]\n",
    "        template = template.replace('{author}',self.author)\n",
    "        return template\n"
   ]
  },
  {
   "cell_type": "code",
   "execution_count": null,
   "metadata": {},
   "outputs": [],
   "source": []
  },
  {
   "cell_type": "code",
   "execution_count": 1644,
   "metadata": {},
   "outputs": [],
   "source": [
    "def drop_empty(quotes):\n",
    "    return [quote for quote in quotes if (quote.strip() != '' and quote.strip() != [])]"
   ]
  },
  {
   "cell_type": "code",
   "execution_count": null,
   "metadata": {},
   "outputs": [],
   "source": []
  },
  {
   "cell_type": "code",
   "execution_count": 1645,
   "metadata": {},
   "outputs": [],
   "source": [
    "\n",
    "# given a string, extract all the strings enclosed in parenthesis\n",
    "def extract_author_name(text):\n",
    "    parenthesisGroup = re.findall(r'\\((.*?)\\)', text)\n",
    "    authorBlock = parenthesisGroup[-1]\n",
    "    author = ''\n",
    "    if ',' in authorBlock:\n",
    "        author= (authorBlock.split(',')[1]+' ' +authorBlock.split(',')[0])[1:]\n",
    "    else:\n",
    "        author = authorBlock\n",
    "    # return the string without any of the stuff in parenthesis\n",
    "    # delete all parts of the string in the parenthesisGroup\n",
    "    for part in parenthesisGroup:\n",
    "        text = text.replace(f'({part})', '')\n",
    "    return author, text[:-1]\n"
   ]
  },
  {
   "cell_type": "code",
   "execution_count": 1646,
   "metadata": {},
   "outputs": [],
   "source": [
    "def extractLocationDate(text):\n",
    "    locationDate = text.split('|')\n",
    "    page = locationDate[0]\n",
    "    # remove the 'Your Highlight on page' part\n",
    "    note = False\n",
    "    date = ''\n",
    "    # NOTE THIS IS NOT GOING TO WORK IF WE WANT THE NOTES TOO\n",
    "    page = page.split('- Your Highlight on page ')\n",
    "    if len(page) <= 1:\n",
    "\n",
    "        page = page[0].split('- Your Note on page ')\n",
    "        # print(page)\n",
    "        if len(page)<=1:\n",
    "            page = 'na'\n",
    "        else:\n",
    "            page = page[1]\n",
    "        \n",
    "        note = True\n",
    "    else:\n",
    "        note = False\n",
    "        page = page[1]\n",
    "    # Above is for the note condition\n",
    "    if(page!= 'na'):\n",
    "        page = int(page)\n",
    "\n",
    "    \n",
    "    if(page!= 'na'):\n",
    "        location = locationDate[1]\n",
    "        date = locationDate[2].replace('Added on ', '')[1:]\n",
    "    else:\n",
    "        location = locationDate[0]\n",
    "        date = locationDate[1].replace('Added on ', '')[1:]\n",
    "    \n",
    "    # NOTE turn the date into a datetime obj for tagging by the day\n",
    "\n",
    "    return {'page':page,'location':location,'date': date,'isNote':note}\n",
    "#Format is as follows\n",
    "# 'Your Highlight on page {location} | Location {null} | Added on {date}'\n",
    "\n",
    "\n",
    "# is the second index of the quote always the content?\n",
    "# we'll update this when we add a note to this\n",
    "\n",
    "\n",
    "# the author title will be the last string with () in it\n"
   ]
  },
  {
   "cell_type": "code",
   "execution_count": 1647,
   "metadata": {},
   "outputs": [],
   "source": [
    "\n",
    "# check if \"Your Bookmark on \" is in the array, make function boolean\n",
    "def ifBookmark(quote):\n",
    "    isBookmark = False\n",
    "    for line in quote:\n",
    "        if 'Your Bookmark on' in line:\n",
    "            isBookmark = True\n",
    "    return isBookmark\n",
    "# we want to split up the data in the quote into blocks FIRST\n",
    "def kindleProcessing(data):\n",
    "    data =data.replace('\\\\xef\\\\xbb\\\\xbf','')\n",
    "    data = data.replace('\\ufeff','')\n",
    "    quotes = data.split('==========')\n",
    "    quotes = [drop_empty(quote.split('\\n')) for quote in quotes ]\n",
    "    quoteObjects = []\n",
    "    for i in range(len(quotes)):\n",
    "        if(quotes[i]!=[] and ifBookmark(quotes[i])==False ):\n",
    "            author,title = extract_author_name(quotes[i][0])\n",
    "            content = quotes[i][2]\n",
    "            locationDateTime= extractLocationDate(quotes[i][1])\n",
    "            page = locationDateTime['page']\n",
    "            location = locationDateTime['location']\n",
    "            date = locationDateTime['date']\n",
    "            isNote = locationDateTime['isNote']\n",
    "            quoteObjects.append(Quote(title,author,content,location,date,page = page,note = isNote))\n",
    "    return quoteObjects\n",
    "textDirectory = '/Users/amer_/Desktop/KindleProject/My Clippings.txt'\n",
    "data = ''\n",
    "with open(textDirectory, 'r') as file:\n",
    "    # read the file\n",
    "    data = file.read()\n",
    "    # print the data\n",
    "    file.close()\n",
    "newQuoteObjects = kindleProcessing(data)\n",
    "\n",
    "# open up the existing version of the clippings, \n",
    "previousDirectory = '/Users/amer_/Documents/Obsidian Vault/Personal/Books/My Clippings.txt'\n",
    "\n"
   ]
  },
  {
   "cell_type": "code",
   "execution_count": 1648,
   "metadata": {},
   "outputs": [],
   "source": [
    "def find_updates(old_list, new_list, unique_key):\n",
    "    old_dict = {obj.__dict__[unique_key]: obj for obj in old_list}\n",
    "    new_dict = {obj.__dict__[unique_key]: obj for obj in new_list}\n",
    "\n",
    "    added = [new_dict[key] for key in set(new_dict.keys()) - set(old_dict.keys())]\n",
    "    removed = [old_dict[key] for key in set(old_dict.keys()) - set(new_dict.keys())]\n",
    "    modified = [new_dict[key] for key in set(new_dict.keys()) & set(old_dict.keys()) if old_dict[key] != new_dict[key]]\n",
    "\n",
    "    return added, removed, modified"
   ]
  },
  {
   "cell_type": "code",
   "execution_count": 1649,
   "metadata": {},
   "outputs": [],
   "source": [
    "# check if the file exists, if it does proceed\n",
    "if os.path.exists(previousDirectory):\n",
    "    with open(previousDirectory, 'r') as file:\n",
    "        # read the file\n",
    "        previousData = file.read()\n",
    "        # print the data\n",
    "        file.close()\n",
    "    previousQuoteObjects = kindleProcessing(previousData)\n",
    "\n",
    "\n",
    "    added, removed, modified = find_updates(previousQuoteObjects, newQuoteObjects, 'content')\n",
    "    quoteObjects=added\n",
    "else:\n",
    "    quoteObjects = newQuoteObjects"
   ]
  },
  {
   "cell_type": "code",
   "execution_count": 1650,
   "metadata": {},
   "outputs": [
    {
     "data": {
      "text/plain": [
       "set()"
      ]
     },
     "execution_count": 1650,
     "metadata": {},
     "output_type": "execute_result"
    }
   ],
   "source": [
    "unique_titles = set()\n",
    "for quote in quoteObjects:\n",
    "    unique_titles.add(quote.title)\n",
    "unique_titles"
   ]
  },
  {
   "cell_type": "code",
   "execution_count": 1651,
   "metadata": {},
   "outputs": [],
   "source": [
    "\n",
    "# Okay now we want to group each of the quote objects by title\n",
    "# Sort the quote objects by title\n",
    "quoteObjects.sort(key=lambda x: x.title)\n",
    "\n",
    "# Group the quote objects by title\n",
    "grouped_quotes = {title: list(quotes) for title, quotes in groupby(quoteObjects, key=lambda x: x.title)}"
   ]
  },
  {
   "cell_type": "code",
   "execution_count": 1652,
   "metadata": {},
   "outputs": [
    {
     "data": {
      "text/plain": [
       "set()"
      ]
     },
     "execution_count": 1652,
     "metadata": {},
     "output_type": "execute_result"
    }
   ],
   "source": [
    "unique_titles = set()\n",
    "for quote in quoteObjects:\n",
    "    unique_titles.add(quote.title)\n",
    "unique_titles"
   ]
  },
  {
   "cell_type": "code",
   "execution_count": 1653,
   "metadata": {},
   "outputs": [],
   "source": [
    "# if a note and a quote have the same location, then make the content of the note object, inside the note section of the quote\n",
    "#  they will be in the same book so it narrows it down\n",
    "\n",
    "# first find all the objects that are a note\n",
    "def withinRange(quote,note):\n",
    "    stringRange = quote.location.replace('Location ','').split('-')\n",
    "\n",
    "    lowerBound = int(stringRange[0])\n",
    "    \n",
    "    upperBound = int(stringRange[1].replace(' ',''))\n",
    "    noteLocation = int(note.location.replace('Location ','').split('-')[0])\n",
    "    boundingCondition = noteLocation >= lowerBound and noteLocation <= upperBound\n",
    "    if boundingCondition:\n",
    "        print(lowerBound,noteLocation,upperBound,)\n",
    "    return boundingCondition\n",
    "\n",
    "note_objects = [quote for quote in quoteObjects if quote.note]\n",
    "for note in note_objects:\n",
    "    for quote in grouped_quotes[note.title]:\n",
    "        if quote.note == False:\n",
    "            if withinRange(quote,note):\n",
    "                quote.note = note.content\n",
    "                print(quote.__str__())\n",
    "quoteObjects = [quote for quote in quoteObjects if quote.note == False or quote.note == True]"
   ]
  },
  {
   "cell_type": "code",
   "execution_count": 1654,
   "metadata": {},
   "outputs": [],
   "source": [
    "# With all this done, we should make a markdown template for it to adapt"
   ]
  },
  {
   "cell_type": "code",
   "execution_count": 1655,
   "metadata": {},
   "outputs": [],
   "source": [
    "# find all the distict titles\n"
   ]
  },
  {
   "cell_type": "code",
   "execution_count": 1656,
   "metadata": {},
   "outputs": [
    {
     "name": "stdout",
     "output_type": "stream",
     "text": [
      "{'{62103B8A-84D2-40DA-8080-D5047952347A}Fmt810': 'Darwin Book', 'Shadow_of_a_Doubt_by_HaiJu-CFq7AXQc': 'Shadow of a Doubt', 'Shadow_of_a_Doubt': 'Shadow of a Doubt', 'Kugle, Scott Siraj al-Haqq - Homosexuality in Islam_ Critical Reflection on Gay, Lesbian, and Transgender Muslims-Oneworld Publications': 'Homosexuality in Islam', 'the-dream-of-a-ridiculous-man': 'The Dream of a Ridiculous Man', 'Why-Fish-Don_t-Exist': \"Why Fish Don't Exist\", 'Take a Hint, Dani Brown: 2': 'Take a Hint, Dani Brown', 'Ursula LeGuin - The Ekumen 04 - The Left Hand of Darkness )': 'The Left Hand of Darkness', 'Fifth Science, The - Exurb1a': 'The Fifth Science', 'The First Fifteen Lives of Harry August': 'the first 15 lives of Harry August'}\n"
     ]
    }
   ],
   "source": [
    "# given a mapping directory in Obsidian, open it up and construct a dictionary to map our titles from one to another\n",
    "mapDir = '/Users/amer_/Documents/Obsidian Vault/Personal/Main Book Overview.md'\n",
    "\n",
    "with open(mapDir,'r') as file:\n",
    "    mapData = file.read()\n",
    "    file.close()\n",
    "mapTable = mapData.split('# Map Table')[1]\n",
    "mapTable = mapTable.split('\\n')\n",
    "mapTable = [line for line in mapTable if line != '']\n",
    "# Isolating the Table\n",
    "mapTable = [line.split('|')[1:3] for line in mapTable ]\n",
    "# for every item in this 2d array, we want to remove the whitespaces\n",
    "mapTable = [[item.strip() for item in line] for line in mapTable][2:]\n",
    "mapTable\n",
    "# make a dictionary out of this\n",
    "mapDict = {line[0]:line[1] for line in mapTable}\n",
    "print(mapDict)\n",
    "for quote in quoteObjects:\n",
    "    if quote.title.strip() in mapDict:\n",
    "        quote.title = mapDict[quote.title.strip()]\n",
    "quoteObjects.sort(key=lambda x: x.title)\n",
    "# # Group the quote objects by title\n",
    "grouped_quotes = {title: list(quotes) for title, quotes in groupby(quoteObjects, key=lambda x: x.title)}"
   ]
  },
  {
   "cell_type": "code",
   "execution_count": 1657,
   "metadata": {},
   "outputs": [
    {
     "name": "stdout",
     "output_type": "stream",
     "text": [
      "dict_keys([])\n"
     ]
    }
   ],
   "source": [
    "print(grouped_quotes.keys())"
   ]
  },
  {
   "cell_type": "code",
   "execution_count": 1658,
   "metadata": {},
   "outputs": [
    {
     "name": "stdout",
     "output_type": "stream",
     "text": [
      "['.DS_Store', 'My Clippings.txt', 'Shadow of a Doubt.md', \"Why Fish Don't Exist.md\", 'Take a Hint, Dani Brown.md', 'If They Come for Us.md', 'The First Fifteen Lives of Harry August.md', 'Darwin Book.md', 'Hijab Butch Blues.md', 'Homosexuality in Islam.md', 'Gathering Blue .md', 'The Dark Forest  .md', 'A History of Pi.md', 'This Is How You Lose the Time War .md', 'Roses, in the Mouth of a Lion.md', ' The Wandering Earth.md', 'Sorry, Bro.md', 'You Exist Too Much.md', 'The Dream of a Ridiculous Man.md', 'How It All Blew Up.md', 'The Left Hand of Darkness.md', 'Love from A to Z.md', 'The Giver .md', 'The Fifth Science.md']\n"
     ]
    }
   ],
   "source": [
    "import os\n",
    "# Now we want to make the author markdown file\n",
    "# Make a new file and write the markdown to it\n",
    "\n",
    "directory = '/Users/amer_/Documents/Obsidian Vault/Personal/Books/'\n",
    "files = os.listdir(directory)\n",
    "existingTitles = []\n",
    "print(files)\n",
    "for file in files:\n",
    "    file = file.replace('.md','').strip()\n",
    "    existingTitles.append(file)\n",
    "\n",
    "\n"
   ]
  },
  {
   "cell_type": "code",
   "execution_count": 1659,
   "metadata": {},
   "outputs": [
    {
     "name": "stdout",
     "output_type": "stream",
     "text": [
      "/Users/amer_/Documents/Obsidian Vault/Personal/Books/The First Fifteen Lives of Harry August.md /Users/amer_/Documents/Obsidian Vault/Personal/Books/the first 15 lives of Harry August.md\n"
     ]
    }
   ],
   "source": [
    "existingTitles\n",
    "# if any of the existing titles is in the mapDict, then we want to rename the file to the new title\n",
    "for existingTitle in existingTitles:\n",
    "    if existingTitle.strip() in mapDict:\n",
    "        os.rename(f'{directory}{existingTitle}.md',f'{directory}{mapDict[existingTitle]}.md')\n",
    "        print(f'{directory}{existingTitle}.md',f'{directory}{mapDict[existingTitle]}.md')"
   ]
  },
  {
   "cell_type": "code",
   "execution_count": 1660,
   "metadata": {},
   "outputs": [
    {
     "data": {
      "text/plain": [
       "'/Users/amer_/Documents/Obsidian Vault/Personal/Books/My Clippings.txt'"
      ]
     },
     "execution_count": 1660,
     "metadata": {},
     "output_type": "execute_result"
    }
   ],
   "source": [
    "# make a copy of the original text file into a new directory\n",
    "for title in grouped_quotes.keys():\n",
    "    print(title)\n",
    "    currentTitle = grouped_quotes[title]\n",
    "    # check if the title already exists, if it does then don't add this\n",
    "    # see all the files in the directory\n",
    "    if title.strip() in existingTitles:\n",
    "        currentMarkdown = ''\n",
    "        writeMode = 'a'\n",
    "        \n",
    "    else:\n",
    "        writeMode = 'w'\n",
    "        currentMarkdown = currentTitle[0].markdownTitle()\n",
    "    for quote in currentTitle:\n",
    "        currentMarkdown+= quote.markdownBody()\n",
    "    # for a given \n",
    "    file_path = directory+f\"{title}.md\"\n",
    "    print(currentMarkdown)\n",
    "    \n",
    "\n",
    "    with open(file_path, writeMode) as file:\n",
    "        file.write(currentMarkdown)\n",
    "        file.close()\n",
    "\n",
    "shutil.copy(textDirectory, previousDirectory)"
   ]
  }
 ],
 "metadata": {
  "kernelspec": {
   "display_name": "Python 3",
   "language": "python",
   "name": "python3"
  },
  "language_info": {
   "codemirror_mode": {
    "name": "ipython",
    "version": 3
   },
   "file_extension": ".py",
   "mimetype": "text/x-python",
   "name": "python",
   "nbconvert_exporter": "python",
   "pygments_lexer": "ipython3",
   "version": "3.10.0"
  }
 },
 "nbformat": 4,
 "nbformat_minor": 2
}
